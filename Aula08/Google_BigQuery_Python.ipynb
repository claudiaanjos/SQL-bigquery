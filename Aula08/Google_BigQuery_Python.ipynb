{
  "nbformat": 4,
  "nbformat_minor": 0,
  "metadata": {
    "colab": {
      "provenance": []
    },
    "kernelspec": {
      "name": "python3",
      "display_name": "Python 3"
    },
    "language_info": {
      "name": "python"
    }
  },
  "cells": [
    {
      "cell_type": "markdown",
      "source": [
        "# Extraindo dados do Google BigQuery com Python"
      ],
      "metadata": {
        "id": "3AP4Q9gQDYal"
      }
    },
    {
      "cell_type": "code",
      "source": [
        "pip install google-cloud-bigquery"
      ],
      "metadata": {
        "id": "GQBk9ekoD2TF"
      },
      "execution_count": null,
      "outputs": []
    },
    {
      "cell_type": "code",
      "source": [
        "from google.cloud import bigquery\n",
        "import pandas as pd\n",
        "\n",
        "# Especifique o caminho para o arquivo JSON de credenciais\n",
        "credencial = r\"C:\\User\\nome\\Downloads\\sql-curso.json\"\n",
        "\n",
        "# Crie um cliente BigQuery usando as credenciais\n",
        "client = bigquery.Client.from_service_account_json(credencial)\n",
        "\n",
        "# Construa sua consulta\n",
        "query= \"\"\"\n",
        "SELECT * FROM `projetosql-401620.vendas.clientes`\n",
        "\"\"\"\n",
        "\n",
        "# Execute a consulta\n",
        "resultado = client.query(query)\n",
        "\n",
        "# Exibe o resultado\n",
        "for row in resultado:\n",
        "  print(row)\n",
        "\n",
        "# Converta os resultados em DataFrame\n",
        "df = resultado.to_dataframe()"
      ],
      "metadata": {
        "id": "hJDjWVuIDtM4"
      },
      "execution_count": null,
      "outputs": []
    },
    {
      "cell_type": "markdown",
      "source": [
        "# Carregando dados para o Google BigQuery com Python"
      ],
      "metadata": {
        "id": "BL4EyFVRGhK7"
      }
    },
    {
      "cell_type": "code",
      "source": [
        "pip install google-cloud-bigquery\n",
        "pip install pandas_gbq"
      ],
      "metadata": {
        "id": "L_Lwr4f6G2GH"
      },
      "execution_count": null,
      "outputs": []
    },
    {
      "cell_type": "code",
      "source": [
        "import pandas as pd\n",
        "from google.cloud import biquery\n",
        "from google.oauth2 import service_account\n",
        "from pandas_gbq import to_gbd"
      ],
      "metadata": {
        "id": "gGIyvWsHGkPn"
      },
      "execution_count": null,
      "outputs": []
    },
    {
      "cell_type": "code",
      "source": [
        "credencial = service_account.Credentials.from_service_account_file(\n",
        "    r\"C:\\User\\nome\\Downloads\\sql-curso.json\",\n",
        "    scopes=[\"https://www.googleapis.com/auth/bigquery\"]\n",
        ")"
      ],
      "metadata": {
        "id": "LcJ5Ohh6G5dh"
      },
      "execution_count": null,
      "outputs": []
    },
    {
      "cell_type": "code",
      "source": [
        "df = pd.read_excel('arquivo.xlsx')\n",
        "df.head()"
      ],
      "metadata": {
        "id": "Xkuk9z47HI50"
      },
      "execution_count": null,
      "outputs": []
    },
    {
      "cell_type": "code",
      "source": [
        "projeto = 'cursosql-395811'\n",
        "dataset = 'aula08'\n",
        "tabela = 'produto'\n",
        "parametro = 'append'"
      ],
      "metadata": {
        "id": "5FnNNnccHVfd"
      },
      "execution_count": null,
      "outputs": []
    },
    {
      "cell_type": "code",
      "source": [
        "df.to_gbd(\n",
        "    destination_table = f'{projeto}.{dataset}.{tabela}',\n",
        "    project_id = projeto,\n",
        "    if_exist = parametro,\n",
        "    credentials = credencial\n",
        ")"
      ],
      "metadata": {
        "id": "uaZrSpAjHiIF"
      },
      "execution_count": null,
      "outputs": []
    }
  ]
}